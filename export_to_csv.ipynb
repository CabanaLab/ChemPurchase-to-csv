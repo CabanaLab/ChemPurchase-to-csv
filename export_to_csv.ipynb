{
 "cells": [
  {
   "cell_type": "markdown",
   "metadata": {},
   "source": [
    "This is an iPython Notebook designed to help graduate students export their purchases while at UIC into a small, easy to search csv file. Prerequisites to using this script is to download all webpages from ChemPurchase using some tool like '<a href='https://www.downthemall.net/'>DownloadThemAll</a>' etc."
   ]
  },
  {
   "cell_type": "code",
   "execution_count": 3,
   "metadata": {},
   "outputs": [],
   "source": [
    "import os\n",
    "from lxml import html\n",
    "import csv"
   ]
  },
  {
   "cell_type": "markdown",
   "metadata": {},
   "source": [
    "## Run a sample"
   ]
  },
  {
   "cell_type": "code",
   "execution_count": 4,
   "metadata": {},
   "outputs": [],
   "source": [
    "with open('/home/mike/chempurchase/order_detail (1).html', 'r') as f:\n",
    "    page = f.read()"
   ]
  },
  {
   "cell_type": "code",
   "execution_count": 5,
   "metadata": {},
   "outputs": [],
   "source": [
    "# read html\n",
    "tree = html.fromstring(page)"
   ]
  },
  {
   "cell_type": "code",
   "execution_count": 6,
   "metadata": {},
   "outputs": [],
   "source": [
    "# XPath locations for important data\n",
    "item_map = {\n",
    "    'order_no': '/html/body/form/table/tr/td/table[1]/tr[2]/td[1]/div/text()',\n",
    "    'order_date': '/html/body/form/table/tr/td/table/tr[2]/td[3]/div/text()',\n",
    "    'vendor': '/html/body/form/table/tr/td/table/tr/td/strong/text()',\n",
    "    'vendor_address': '/html/body/form/table/tr/td/table/tr/td[2]/text()',\n",
    "    'part_no_list': '/html/body/form/table/tr/td/table[3]/tr/td[2]/div/text()',\n",
    "    'part_description_list': '/html/body/form/table/tr/td/table[3]/tr/td[3]/div/text()',\n",
    "    'part_quantity_list': '/html/body/form/table/tr/td/table[3]/tr/td[4]/div/text()',\n",
    "    'part_unit_price_list': '/html/body/form/table/tr/td/table[3]/tr/td[5]/div/text()',\n",
    "    'comment': '/html/body/form/table/tr/td/div/table/tr[2]/table/tr[2]/td[3]/text()'\n",
    "}\n"
   ]
  },
  {
   "cell_type": "code",
   "execution_count": 9,
   "metadata": {},
   "outputs": [
    {
     "name": "stdout",
     "output_type": "stream",
     "text": [
      "part_description_list ['ADAPTER ENLARGNG 19/22O 14/20I', 'COND, LIEBG, NO H/UP, 19/22, 19/22', '14/20 DELRIN JOINT CLIP PK10', '19/22 DELRIN JOINT CLIP PK10', 'GLOVE BOX GLOVE SZ10.5 BUTYL 8IN PR2', 'GLOVE DRYBOX BUTYL S10.5 EA=PR']\n",
      "vendor_address ['1260 Garnet Drive (Make sure Garnet in i', 'Northlake,IL\\xa060164', '800-545-8823', 'Status: ']\n",
      "comment ['Glovebox gloves of both sizes, plus some extra glass adapters, an extra condenser, and joint clips']\n",
      "part_quantity_list ['3', '1', '1', '1', '1', '1']\n",
      "order_no ['17793']\n",
      "vendor ['LabSource Inc.']\n",
      "part_no_list ['14201576', '14204682', '89059608', '89059610', '82031298', '11000566']\n",
      "part_unit_price_list ['32.35', '77.65', '45.65', '46.65', '392.45', '368.95']\n",
      "order_date ['\\n                2/23/15              ']\n"
     ]
    }
   ],
   "source": [
    "for key in item_map:\n",
    "    print(\n",
    "        key,\n",
    "        tree.xpath(item_map[key])\n",
    "    )"
   ]
  },
  {
   "cell_type": "markdown",
   "metadata": {},
   "source": [
    "## Run on a directory"
   ]
  },
  {
   "cell_type": "code",
   "execution_count": 246,
   "metadata": {},
   "outputs": [],
   "source": [
    "out_file = open('/home/mike/chempurchase/csvfile.csv','w')\n",
    "writer = csv.writer(out_file, delimiter=',')\n",
    "writer.writerow(\n",
    "            [\n",
    "                'Order No.',\n",
    "                'Order Date',\n",
    "                'Vendor',\n",
    "                'Vendor Address',\n",
    "                'Part No.',\n",
    "                'Description',\n",
    "                'Quantity',\n",
    "                'Unit Price',\n",
    "                'Comments'\n",
    "            ]\n",
    "        )\n",
    "for root, dirs, files in os.walk(\"/home/mike/chempurchase/\", topdown=False):\n",
    "    for name in files:\n",
    "        page = open(os.path.join('/home/mike/chempurchase/', name), 'r')\n",
    "        if name.endswith('.html'):\n",
    "            tree = html.fromstring(page.read())\n",
    "            for j in range(0,len(tree.xpath(item_map['part_no_list']))):\n",
    "                writer.writerow(\n",
    "                    [\n",
    "                        tree.xpath(item_map['order_no'])[0],\n",
    "                        ''.join(tree.xpath(item_map['order_date'])).replace(\" \",\"\").replace(\"\\n\",\"\"),\n",
    "                        tree.xpath(item_map['vendor'])[0],\n",
    "                        \" ,\".join(tree.xpath(item_map['vendor_address'])[:-1]),\n",
    "                        tree.xpath(item_map['part_no_list'])[j],\n",
    "                        tree.xpath(item_map['part_description_list'])[j],\n",
    "                        tree.xpath(item_map['part_quantity_list'])[j],\n",
    "                        tree.xpath(item_map['part_unit_price_list'])[j],\n",
    "                        tree.xpath(item_map['comment'])[0],\n",
    "                    ]\n",
    "                )\n",
    "out_file.close()"
   ]
  }
 ],
 "metadata": {
  "kernelspec": {
   "display_name": "Python 3",
   "language": "python",
   "name": "python3"
  },
  "language_info": {
   "codemirror_mode": {
    "name": "ipython",
    "version": 3
   },
   "file_extension": ".py",
   "mimetype": "text/x-python",
   "name": "python",
   "nbconvert_exporter": "python",
   "pygments_lexer": "ipython3",
   "version": "3.5.2"
  }
 },
 "nbformat": 4,
 "nbformat_minor": 2
}
